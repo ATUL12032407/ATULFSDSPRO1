{
  "nbformat": 4,
  "nbformat_minor": 0,
  "metadata": {
    "colab": {
      "provenance": [],
      "authorship_tag": "ABX9TyPybF1vFsl5RSmNqY6wtn29",
      "include_colab_link": true
    },
    "kernelspec": {
      "name": "python3",
      "display_name": "Python 3"
    },
    "language_info": {
      "name": "python"
    }
  },
  "cells": [
    {
      "cell_type": "markdown",
      "metadata": {
        "id": "view-in-github",
        "colab_type": "text"
      },
      "source": [
        "<a href=\"https://colab.research.google.com/github/ATUL12032407/ATULFSDSPRO1/blob/main/10th_December_Python_Basics.ipynb\" target=\"_parent\"><img src=\"https://colab.research.google.com/assets/colab-badge.svg\" alt=\"Open In Colab\"/></a>"
      ]
    },
    {
      "cell_type": "markdown",
      "source": [
        "Assignmet-1"
      ],
      "metadata": {
        "id": "yp8HNQM16Mxj"
      }
    },
    {
      "cell_type": "markdown",
      "source": [
        "1. Python Basic Variable"
      ],
      "metadata": {
        "id": "ncpnNyyG6U4H"
      }
    },
    {
      "cell_type": "markdown",
      "source": [
        "1(a) Code to swap two variables without using temporary variables\n"
      ],
      "metadata": {
        "id": "WYahxhWp6t71"
      }
    },
    {
      "cell_type": "code",
      "source": [],
      "metadata": {
        "id": "bPt8YmREO_ap"
      },
      "execution_count": 27,
      "outputs": []
    },
    {
      "cell_type": "code",
      "source": [
        "x=10\n",
        "# assignment of a integer"
      ],
      "metadata": {
        "id": "upiLRfBYPz5W"
      },
      "execution_count": 28,
      "outputs": []
    },
    {
      "cell_type": "code",
      "source": [
        "y=6\n",
        "# assignment of a integer"
      ],
      "metadata": {
        "id": "47W7l7HdP2J_"
      },
      "execution_count": 17,
      "outputs": []
    },
    {
      "cell_type": "code",
      "source": [
        "# swapping without temporary variable\n",
        "\n",
        "x=x+y"
      ],
      "metadata": {
        "id": "AkSA61A3P3No"
      },
      "execution_count": 23,
      "outputs": []
    },
    {
      "cell_type": "code",
      "source": [
        "# swapping of y\n",
        "y=x-y"
      ],
      "metadata": {
        "id": "nhFynNrxP5di"
      },
      "execution_count": 24,
      "outputs": []
    },
    {
      "cell_type": "code",
      "source": [
        "# swapping of x\n",
        "x=x-y"
      ],
      "metadata": {
        "id": "96LhDAGIP7ze"
      },
      "execution_count": 25,
      "outputs": []
    },
    {
      "cell_type": "code",
      "source": [
        "x"
      ],
      "metadata": {
        "colab": {
          "base_uri": "https://localhost:8080/"
        },
        "id": "PzMHOp6VP-2n",
        "outputId": "91a688f5-ec3b-4466-8f1e-b9ef81a5da17"
      },
      "execution_count": 29,
      "outputs": [
        {
          "output_type": "execute_result",
          "data": {
            "text/plain": [
              "10"
            ]
          },
          "metadata": {},
          "execution_count": 29
        }
      ]
    },
    {
      "cell_type": "code",
      "source": [
        "y"
      ],
      "metadata": {
        "colab": {
          "base_uri": "https://localhost:8080/"
        },
        "id": "2IkxvhboQuvS",
        "outputId": "e44aa70b-75a9-4e6a-9db5-f16f99da3a39"
      },
      "execution_count": 30,
      "outputs": [
        {
          "output_type": "execute_result",
          "data": {
            "text/plain": [
              "6"
            ]
          },
          "metadata": {},
          "execution_count": 30
        }
      ]
    },
    {
      "cell_type": "markdown",
      "source": [
        "1(b) Code  to calculate area of rectangle"
      ],
      "metadata": {
        "id": "wxN9FvqT7FE2"
      }
    },
    {
      "cell_type": "code",
      "source": [
        " l=float(input(\"Enter the length of rectangle in mtr.:\"))"
      ],
      "metadata": {
        "colab": {
          "base_uri": "https://localhost:8080/"
        },
        "id": "9ktiNg0YSVEA",
        "outputId": "f1f4dfaf-62ec-4b07-a162-dfd97502f152"
      },
      "execution_count": 57,
      "outputs": [
        {
          "name": "stdout",
          "output_type": "stream",
          "text": [
            "Enter the length of rectangle in mtr.:10\n"
          ]
        }
      ]
    },
    {
      "cell_type": "code",
      "source": [
        " w=float(input(\"Enter the width of rectangle in mtr.:\"))"
      ],
      "metadata": {
        "colab": {
          "base_uri": "https://localhost:8080/"
        },
        "id": "GDEulwFfU2-f",
        "outputId": "db9c94b5-3f56-47d7-eedb-46036c849d8f"
      },
      "execution_count": 50,
      "outputs": [
        {
          "name": "stdout",
          "output_type": "stream",
          "text": [
            "Enter the width of rectangle in mtr.:10.2\n"
          ]
        }
      ]
    },
    {
      "cell_type": "code",
      "source": [
        "# formula to calculate area of rectangle area=length*width\n",
        "\n"
      ],
      "metadata": {
        "id": "gLGx1tHBVGlv"
      },
      "execution_count": 51,
      "outputs": []
    },
    {
      "cell_type": "code",
      "source": [
        "area = l*w"
      ],
      "metadata": {
        "id": "ttT3sCSrVbhj"
      },
      "execution_count": 58,
      "outputs": []
    },
    {
      "cell_type": "code",
      "source": [
        "area"
      ],
      "metadata": {
        "colab": {
          "base_uri": "https://localhost:8080/"
        },
        "id": "ClVrJaLYVl-V",
        "outputId": "bb5ee156-6a9e-4af7-9ed5-5bbc0f66908a"
      },
      "execution_count": 59,
      "outputs": [
        {
          "output_type": "execute_result",
          "data": {
            "text/plain": [
              "102.0"
            ]
          },
          "metadata": {},
          "execution_count": 59
        }
      ]
    },
    {
      "cell_type": "markdown",
      "source": [
        "1(c) Code to convert temperature from Celcious to Farenheit"
      ],
      "metadata": {
        "id": "OWvjS7GC7VIv"
      }
    },
    {
      "cell_type": "code",
      "source": [
        "print(\"Area of the rectangle is =\",area,\" mtr. suqare\")"
      ],
      "metadata": {
        "colab": {
          "base_uri": "https://localhost:8080/"
        },
        "id": "adhMnRaPVnRn",
        "outputId": "9e2f2039-b903-4e5f-ec3e-31c311f3d51a"
      },
      "execution_count": 60,
      "outputs": [
        {
          "output_type": "stream",
          "name": "stdout",
          "text": [
            "Area of the rectangle is = 102.0  mtr. suqare\n"
          ]
        }
      ]
    },
    {
      "cell_type": "code",
      "source": [
        "# Input temprature in celsius"
      ],
      "metadata": {
        "id": "CQmAzoFwXxfB"
      },
      "execution_count": 62,
      "outputs": []
    },
    {
      "cell_type": "code",
      "source": [
        "# Assignment in a variable\n",
        "temp_C=float(input(\"Enter temprature in degree celsius:\"))"
      ],
      "metadata": {
        "colab": {
          "base_uri": "https://localhost:8080/"
        },
        "id": "-jv4mA0NX9vx",
        "outputId": "fa9ae2ce-f30c-4662-c5f9-d15ff9dc0e64"
      },
      "execution_count": 73,
      "outputs": [
        {
          "name": "stdout",
          "output_type": "stream",
          "text": [
            "Enter temprature in degree celsius:4\n"
          ]
        }
      ]
    },
    {
      "cell_type": "code",
      "source": [
        "temp_C"
      ],
      "metadata": {
        "colab": {
          "base_uri": "https://localhost:8080/"
        },
        "id": "_Z4FfiT-YNnu",
        "outputId": "0cef20e5-f02b-427c-c016-c7a69bb595a5"
      },
      "execution_count": 74,
      "outputs": [
        {
          "output_type": "execute_result",
          "data": {
            "text/plain": [
              "4.0"
            ]
          },
          "metadata": {},
          "execution_count": 74
        }
      ]
    },
    {
      "cell_type": "code",
      "source": [
        "# Formula to convert temperature from degree celsius to fahrenheit is degree F=(degree celsius)*9/5 +32\n",
        "temp_F= (temp_C)*9/5 +32"
      ],
      "metadata": {
        "id": "HHQ6qiriYVZH"
      },
      "execution_count": 78,
      "outputs": []
    },
    {
      "cell_type": "code",
      "source": [
        "temp_F"
      ],
      "metadata": {
        "colab": {
          "base_uri": "https://localhost:8080/"
        },
        "id": "tbAWWXiFYudi",
        "outputId": "879ffe08-250e-4959-9e57-16d9d36e5aea"
      },
      "execution_count": 79,
      "outputs": [
        {
          "output_type": "execute_result",
          "data": {
            "text/plain": [
              "39.2"
            ]
          },
          "metadata": {},
          "execution_count": 79
        }
      ]
    },
    {
      "cell_type": "markdown",
      "source": [
        "2. String based assignment questions\n",
        "\n",
        "2(a) Calculate user input string length"
      ],
      "metadata": {
        "id": "Hb2tLZuK8o1v"
      }
    },
    {
      "cell_type": "code",
      "source": [
        "print(\"Temperature in fahrenheit is=\",temp_F,\"degree Fahrenheit  \")"
      ],
      "metadata": {
        "colab": {
          "base_uri": "https://localhost:8080/"
        },
        "id": "EEtMFcfcZDnL",
        "outputId": "51a2571e-951d-41ca-a222-22cf1ce6b25f"
      },
      "execution_count": 197,
      "outputs": [
        {
          "output_type": "stream",
          "name": "stdout",
          "text": [
            "Temperature in fahrenheit is= 39.2 degree Fahrenheit  \n"
          ]
        }
      ]
    },
    {
      "cell_type": "code",
      "source": [
        "\n",
        "# input of string"
      ],
      "metadata": {
        "id": "31-x1bu4cNKu"
      },
      "execution_count": 84,
      "outputs": []
    },
    {
      "cell_type": "code",
      "source": [
        " str=input(\"Enter the string:\")"
      ],
      "metadata": {
        "colab": {
          "base_uri": "https://localhost:8080/"
        },
        "id": "wdSRu3HRcjS8",
        "outputId": "3645671d-594a-42a6-9ae1-d13333f5566e"
      },
      "execution_count": 96,
      "outputs": [
        {
          "name": "stdout",
          "output_type": "stream",
          "text": [
            "Enter the string:AA\n"
          ]
        }
      ]
    },
    {
      "cell_type": "code",
      "source": [
        "len(str)"
      ],
      "metadata": {
        "colab": {
          "base_uri": "https://localhost:8080/"
        },
        "id": "lLhJbptIc1ox",
        "outputId": "6a5b85c4-0d83-4b9b-fd3c-674bcb0d9590"
      },
      "execution_count": 97,
      "outputs": [
        {
          "output_type": "execute_result",
          "data": {
            "text/plain": [
              "2"
            ]
          },
          "metadata": {},
          "execution_count": 97
        }
      ]
    },
    {
      "cell_type": "markdown",
      "source": [
        "2(b) Program to create sentence from user and count vowels in the string"
      ],
      "metadata": {
        "id": "8eh4v4yc9OIw"
      }
    },
    {
      "cell_type": "code",
      "source": [
        " Sentence=input(\"Enter the sentence:\")\n",
        "#  Input from the user as a string"
      ],
      "metadata": {
        "colab": {
          "base_uri": "https://localhost:8080/"
        },
        "id": "xrznVqsCh3fB",
        "outputId": "7a298bf4-756f-441c-f48c-ee4f7169aac4"
      },
      "execution_count": 120,
      "outputs": [
        {
          "name": "stdout",
          "output_type": "stream",
          "text": [
            "Enter the sentence:hi\n"
          ]
        }
      ]
    },
    {
      "cell_type": "code",
      "source": [
        "Sentence"
      ],
      "metadata": {
        "colab": {
          "base_uri": "https://localhost:8080/",
          "height": 36
        },
        "id": "MBBaGCiJiBCO",
        "outputId": "a233262e-dcf4-46a8-c530-d78c9092c85d"
      },
      "execution_count": 121,
      "outputs": [
        {
          "output_type": "execute_result",
          "data": {
            "text/plain": [
              "'hi'"
            ],
            "application/vnd.google.colaboratory.intrinsic+json": {
              "type": "string"
            }
          },
          "metadata": {},
          "execution_count": 121
        }
      ]
    },
    {
      "cell_type": "code",
      "source": [
        "vowel=0\n",
        "# intializing a temporary variable as 0 to count no of vowels"
      ],
      "metadata": {
        "id": "m1bdmvnsjcWG"
      },
      "execution_count": 122,
      "outputs": []
    },
    {
      "cell_type": "code",
      "source": [
        "for i in Sentence :\n",
        "   if(i=='A'or i=='a'or i=='E'or i=='e'or i=='I'or i=='i'or i=='O'or i=='o'or i=='U'or i=='u'):\n",
        "    vowel+=1\n"
      ],
      "metadata": {
        "id": "jB4IpPUrlL2A"
      },
      "execution_count": 123,
      "outputs": []
    },
    {
      "cell_type": "code",
      "source": [
        "print(\"Number of vowels are :=\",vowel)"
      ],
      "metadata": {
        "colab": {
          "base_uri": "https://localhost:8080/"
        },
        "id": "AbPORuGmmwIB",
        "outputId": "8b0255b0-bd78-4da9-b734-7497f50e85e7"
      },
      "execution_count": 126,
      "outputs": [
        {
          "output_type": "stream",
          "name": "stdout",
          "text": [
            "Number of vowels are := 1\n"
          ]
        }
      ]
    },
    {
      "cell_type": "markdown",
      "source": [
        "2(c) Input a string from user and  reversal of string"
      ],
      "metadata": {
        "id": "S6bdizia8xEG"
      }
    },
    {
      "cell_type": "code",
      "source": [
        "Str=input(\"Enter a string:\")\n",
        "# Input of string"
      ],
      "metadata": {
        "colab": {
          "base_uri": "https://localhost:8080/"
        },
        "id": "moZ0e_mqqKtE",
        "outputId": "dbefb276-81e6-4c09-f4cf-257d1a60333b"
      },
      "execution_count": 132,
      "outputs": [
        {
          "name": "stdout",
          "output_type": "stream",
          "text": [
            "Enter a string:We will go shimla next year together\n"
          ]
        }
      ]
    },
    {
      "cell_type": "code",
      "source": [
        "reverse_Str=Str[::-1]\n",
        "# Reversal technique using slicing concept"
      ],
      "metadata": {
        "id": "SbZZDrZIqWK-"
      },
      "execution_count": 135,
      "outputs": []
    },
    {
      "cell_type": "code",
      "source": [
        "print(\"Reverse string is:\",reverse_Str)\n",
        "# Printing of that string"
      ],
      "metadata": {
        "colab": {
          "base_uri": "https://localhost:8080/"
        },
        "id": "Q84S5DtyqpOG",
        "outputId": "bbd4e2d7-8655-483d-9f96-db68bcb78bc4"
      },
      "execution_count": 136,
      "outputs": [
        {
          "output_type": "stream",
          "name": "stdout",
          "text": [
            "Reverse string is: rehtegot raey txen almihs og lliw eW\n"
          ]
        }
      ]
    },
    {
      "cell_type": "markdown",
      "source": [
        "2(d) Program to check whether a string is palindrome or not"
      ],
      "metadata": {
        "id": "HR5R5VQJ87_6"
      }
    },
    {
      "cell_type": "code",
      "source": [
        "Str1=input(\"Enter a string : \")"
      ],
      "metadata": {
        "colab": {
          "base_uri": "https://localhost:8080/"
        },
        "id": "Fxm06R5AtlkH",
        "outputId": "bf9629d8-bfb7-4835-e58d-a9c67fdfbbeb"
      },
      "execution_count": 179,
      "outputs": [
        {
          "name": "stdout",
          "output_type": "stream",
          "text": [
            "Enter a string : ATUL\n"
          ]
        }
      ]
    },
    {
      "cell_type": "code",
      "source": [
        "Str1=''.join(Str1.lower().split())\n",
        "#  Remove spaces and convert to lowercase"
      ],
      "metadata": {
        "id": "wjy_a3MGwCGz"
      },
      "execution_count": 180,
      "outputs": []
    },
    {
      "cell_type": "code",
      "source": [
        "Str1"
      ],
      "metadata": {
        "colab": {
          "base_uri": "https://localhost:8080/",
          "height": 36
        },
        "id": "UZLd4usXwV3s",
        "outputId": "0da76f7e-e18a-49f1-b1b0-2629e096b163"
      },
      "execution_count": 181,
      "outputs": [
        {
          "output_type": "execute_result",
          "data": {
            "text/plain": [
              "'atul'"
            ],
            "application/vnd.google.colaboratory.intrinsic+json": {
              "type": "string"
            }
          },
          "metadata": {},
          "execution_count": 181
        }
      ]
    },
    {
      "cell_type": "code",
      "source": [
        "if Str1==Str1[::-1]:\n",
        "  print(\"The string is a palindrome.\")\n",
        "else:\n",
        "  print(\"The string is not a palindrome.\")\n",
        "  # Check if the cleaned string is equal to its reverse"
      ],
      "metadata": {
        "colab": {
          "base_uri": "https://localhost:8080/"
        },
        "id": "Q7p26XihzVqs",
        "outputId": "821b2698-2f29-46b1-c2de-7990a31a7572"
      },
      "execution_count": 182,
      "outputs": [
        {
          "output_type": "stream",
          "name": "stdout",
          "text": [
            "The string is not a palindrome.\n"
          ]
        }
      ]
    },
    {
      "cell_type": "markdown",
      "source": [
        "2(e) Code to input string and remove spaces"
      ],
      "metadata": {
        "id": "tplN9KKO9cdE"
      }
    },
    {
      "cell_type": "code",
      "source": [],
      "metadata": {
        "id": "SEFsZ2Ezz7uM"
      },
      "execution_count": 183,
      "outputs": []
    },
    {
      "cell_type": "code",
      "source": [
        "string1=input(\"Enter a string:\")"
      ],
      "metadata": {
        "colab": {
          "base_uri": "https://localhost:8080/"
        },
        "id": "k2KWrS9747PN",
        "outputId": "35c8aa3b-e9da-4b5d-b19a-99bec8ca6f53"
      },
      "execution_count": 193,
      "outputs": [
        {
          "name": "stdout",
          "output_type": "stream",
          "text": [
            "Enter a string:A T U L\n"
          ]
        }
      ]
    },
    {
      "cell_type": "code",
      "source": [
        "String1=''.join(string1.split())\n",
        "# To remove all spaces in string"
      ],
      "metadata": {
        "id": "KZA7npgS5BK2"
      },
      "execution_count": 194,
      "outputs": []
    },
    {
      "cell_type": "code",
      "source": [
        "print(\"Modified string:\",String1)\n",
        "# PRINTING OF MODIFIED STRING"
      ],
      "metadata": {
        "colab": {
          "base_uri": "https://localhost:8080/"
        },
        "id": "_27TIay75Wuz",
        "outputId": "4423e9e4-bb2d-4858-ef21-d6c07ef2628f"
      },
      "execution_count": 196,
      "outputs": [
        {
          "output_type": "stream",
          "name": "stdout",
          "text": [
            "Modified string: ATUL\n"
          ]
        }
      ]
    },
    {
      "cell_type": "code",
      "source": [],
      "metadata": {
        "id": "nMdiVW7A5dgF"
      },
      "execution_count": null,
      "outputs": []
    }
  ]
}